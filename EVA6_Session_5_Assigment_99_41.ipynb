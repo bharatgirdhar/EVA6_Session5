{
  "nbformat": 4,
  "nbformat_minor": 0,
  "metadata": {
    "colab": {
      "name": "EVA6_Session_5_Assigment_RF_5_99.41.ipynb",
      "provenance": [],
      "collapsed_sections": [],
      "authorship_tag": "ABX9TyM/iGhqzAIMRHKYfRdbPBkd",
      "include_colab_link": true
    },
    "kernelspec": {
      "name": "python3",
      "display_name": "Python 3"
    },
    "language_info": {
      "name": "python"
    },
    "accelerator": "GPU"
  },
  "cells": [
    {
      "cell_type": "markdown",
      "metadata": {
        "id": "view-in-github",
        "colab_type": "text"
      },
      "source": [
        "<a href=\"https://colab.research.google.com/github/bharatgirdhar/EVA6_Session5/blob/main/EVA6_Session_5_Assigment_99_41.ipynb\" target=\"_parent\"><img src=\"https://colab.research.google.com/assets/colab-badge.svg\" alt=\"Open In Colab\"/></a>"
      ]
    },
    {
      "cell_type": "code",
      "metadata": {
        "id": "AHG1HFGadt9c"
      },
      "source": [
        "from __future__ import print_function\n",
        "import torch\n",
        "import torch.nn as nn\n",
        "import torch.nn.functional as F\n",
        "import torch.optim as optim\n",
        "from torchvision import datasets, transforms"
      ],
      "execution_count": null,
      "outputs": []
    },
    {
      "cell_type": "code",
      "metadata": {
        "id": "MYl-0xFFdvPv"
      },
      "source": [
        "class Net(nn.Module):\n",
        "    def __init__(self):\n",
        "        super(Net, self).__init__()\n",
        "\n",
        "        self.dropout=nn.Dropout(0.05)\n",
        "        self.conv1 = nn.Conv2d(1, 8, 3, padding=1,bias=False) #28\n",
        "        self.BatchNorm1=nn.BatchNorm2d(8)\n",
        "        #self.conv2 = nn.Conv2d(8, 8, 3, padding=1,bias=False)#28 \n",
        "        #self.BatchNorm2=nn.BatchNorm2d(8)\n",
        "        self.conv3 = nn.Conv2d(8, 16, 3, padding=1,bias=False)#28\n",
        "        self.BatchNorm3=nn.BatchNorm2d(16)\n",
        "        self.pool1 = nn.MaxPool2d(2, 2)#14\n",
        "        \n",
        "        self.conv4 = nn.Conv2d(16, 8, 1, bias=False)#14\n",
        "        self.BatchNorm4=nn.BatchNorm2d(8)\n",
        "        #self.conv5 = nn.Conv2d(8, 8, 3,bias=False)#12\n",
        "        #self.BatchNorm5=nn.BatchNorm2d(8)\n",
        "        self.conv6 = nn.Conv2d(8, 8, 3, bias=False)#12\n",
        "        self.BatchNorm6=nn.BatchNorm2d(8)\n",
        "        self.conv7 = nn.Conv2d(8, 16, 3, bias=False)#10\n",
        "        self.BatchNorm7=nn.BatchNorm2d(16)\n",
        "        self.conv8 = nn.Conv2d(16, 8, 1, bias=False)#10\n",
        "        self.BatchNorm8=nn.BatchNorm2d(8)\n",
        "        self.conv9 = nn.Conv2d(8, 16, 3, bias=False)#8\n",
        "        self.BatchNorm9=nn.BatchNorm2d(16)\n",
        "        self.conv10 = nn.Conv2d(16, 32, 3, bias=False)#6\n",
        "        self.BatchNorm10=nn.BatchNorm2d(32)\n",
        "        self.gap1=nn.AdaptiveAvgPool2d(1)\n",
        "\n",
        "        self.fc1=nn.Linear(in_features=32, out_features=10)\n",
        "\n",
        "\n",
        "    def forward(self, x):\n",
        "        \n",
        "        x = self.pool1(self.dropout(F.relu(self.BatchNorm3(self.conv3(self.dropout(F.relu(self.BatchNorm1(self.conv1(x)))))))))\n",
        "        #print(x.shape)\n",
        "        x = self.dropout(F.relu(self.BatchNorm7(self.conv7(self.dropout(F.relu(self.BatchNorm6(self.conv6(self.dropout(F.relu(self.BatchNorm4(self.conv4(x))))))))))))\n",
        "        #print(x.shape)\n",
        "        x = F.relu(self.BatchNorm10(self.conv10(self.dropout(F.relu(self.BatchNorm9(self.conv9(self.dropout(F.relu(self.BatchNorm8(self.conv8(x)))))))))))\n",
        "        #x = self.conv7(x)\n",
        "        #print(x.shape)\n",
        "        x = self.gap1(x)\n",
        "        \n",
        "        x = x.view(-1, 32)\n",
        "        #print(x.shape)\n",
        "        x=self.fc1(x)\n",
        "        return F.log_softmax(x)"
      ],
      "execution_count": null,
      "outputs": []
    },
    {
      "cell_type": "code",
      "metadata": {
        "colab": {
          "base_uri": "https://localhost:8080/"
        },
        "id": "WOKQ_PHAdzki",
        "outputId": "43469525-cbe0-4ca6-9600-a6c6f98385b4"
      },
      "source": [
        "!pip install torchsummary\n",
        "from torchsummary import summary\n",
        "use_cuda = torch.cuda.is_available()\n",
        "device = torch.device(\"cuda\" if use_cuda else \"cpu\")\n",
        "model = Net().to(device)\n",
        "summary(model, input_size=(1, 28, 28))"
      ],
      "execution_count": null,
      "outputs": [
        {
          "output_type": "stream",
          "text": [
            "Requirement already satisfied: torchsummary in /usr/local/lib/python3.7/dist-packages (1.5.1)\n",
            "----------------------------------------------------------------\n",
            "        Layer (type)               Output Shape         Param #\n",
            "================================================================\n",
            "            Conv2d-1            [-1, 8, 28, 28]              72\n",
            "       BatchNorm2d-2            [-1, 8, 28, 28]              16\n",
            "           Dropout-3            [-1, 8, 28, 28]               0\n",
            "            Conv2d-4           [-1, 16, 28, 28]           1,152\n",
            "       BatchNorm2d-5           [-1, 16, 28, 28]              32\n",
            "           Dropout-6           [-1, 16, 28, 28]               0\n",
            "         MaxPool2d-7           [-1, 16, 14, 14]               0\n",
            "            Conv2d-8            [-1, 8, 14, 14]             128\n",
            "       BatchNorm2d-9            [-1, 8, 14, 14]              16\n",
            "          Dropout-10            [-1, 8, 14, 14]               0\n",
            "           Conv2d-11            [-1, 8, 12, 12]             576\n",
            "      BatchNorm2d-12            [-1, 8, 12, 12]              16\n",
            "          Dropout-13            [-1, 8, 12, 12]               0\n",
            "           Conv2d-14           [-1, 16, 10, 10]           1,152\n",
            "      BatchNorm2d-15           [-1, 16, 10, 10]              32\n",
            "          Dropout-16           [-1, 16, 10, 10]               0\n",
            "           Conv2d-17            [-1, 8, 10, 10]             128\n",
            "      BatchNorm2d-18            [-1, 8, 10, 10]              16\n",
            "          Dropout-19            [-1, 8, 10, 10]               0\n",
            "           Conv2d-20             [-1, 16, 8, 8]           1,152\n",
            "      BatchNorm2d-21             [-1, 16, 8, 8]              32\n",
            "          Dropout-22             [-1, 16, 8, 8]               0\n",
            "           Conv2d-23             [-1, 32, 6, 6]           4,608\n",
            "      BatchNorm2d-24             [-1, 32, 6, 6]              64\n",
            "AdaptiveAvgPool2d-25             [-1, 32, 1, 1]               0\n",
            "           Linear-26                   [-1, 10]             330\n",
            "================================================================\n",
            "Total params: 9,522\n",
            "Trainable params: 9,522\n",
            "Non-trainable params: 0\n",
            "----------------------------------------------------------------\n",
            "Input size (MB): 0.00\n",
            "Forward/backward pass size (MB): 0.61\n",
            "Params size (MB): 0.04\n",
            "Estimated Total Size (MB): 0.65\n",
            "----------------------------------------------------------------\n"
          ],
          "name": "stdout"
        },
        {
          "output_type": "stream",
          "text": [
            "/usr/local/lib/python3.7/dist-packages/ipykernel_launcher.py:47: UserWarning: Implicit dimension choice for log_softmax has been deprecated. Change the call to include dim=X as an argument.\n"
          ],
          "name": "stderr"
        }
      ]
    },
    {
      "cell_type": "code",
      "metadata": {
        "id": "fCL-n3iCd3Xz"
      },
      "source": [
        "\n",
        "\n",
        "torch.manual_seed(1)\n",
        "batch_size = 128\n",
        "\n",
        "train_transform=transforms.Compose([\n",
        "                        transforms.RandomRotation(degrees=(-7.0,7.0),fill=(1,)),\n",
        "                        transforms.ToTensor(),\n",
        "                        transforms.Normalize((0.1307,), (0.3081,))\n",
        "                    ])\n",
        "\n",
        "test_transform=transforms.Compose([\n",
        "                        transforms.ToTensor(),\n",
        "                        transforms.Normalize((0.1307,), (0.3081,))\n",
        "                    ])\n",
        "\n",
        "\n",
        "train = datasets.MNIST('./data', train=True, download=True, transform=train_transform)\n",
        "test = datasets.MNIST('./data', train=False, download=True, transform=test_transform)\n",
        "\n",
        "kwargs = {'num_workers': 1, 'pin_memory': True} if use_cuda else {}\n",
        "#kwargs = dict(shuffle=True, batch_size=128, num_workers=4, pin_memory=True) if cuda else dict(shuffle=True, batch_size=64)\n",
        "\n",
        "train_loader = torch.utils.data.DataLoader(\n",
        "    train, batch_size=batch_size, shuffle=True, **kwargs)\n",
        "\n",
        "test_loader = torch.utils.data.DataLoader(\n",
        "    test, batch_size=batch_size, shuffle=True, **kwargs)\n"
      ],
      "execution_count": null,
      "outputs": []
    },
    {
      "cell_type": "code",
      "metadata": {
        "colab": {
          "base_uri": "https://localhost:8080/",
          "height": 364
        },
        "id": "MLGjQ2Den5OU",
        "outputId": "ba60fa5f-57f0-4a2e-a107-5c42f08b79a4"
      },
      "source": [
        "# We'd need to convert it into Numpy! Remember above we have converted it into tensors already\n",
        "train_data = train.train_data\n",
        "#train_data = train.transform(train_data.numpy())\n",
        "\n",
        "print('[Train]')\n",
        "print(' - Numpy Shape:', train.train_data.cpu().numpy().shape)\n",
        "print(' - Tensor Shape:', train.train_data.size())\n",
        "print(' - min:', torch.min(train_data))\n",
        "print(' - max:', torch.max(train_data))\n",
        "#print(' - mean:', torch.mean(train_data))\n",
        "#print(' - std:', torch.std(train_data))\n",
        "#print(' - var:', torch.var(train_data))\n",
        "\n",
        "\n",
        "dataiter = iter(train_loader)\n",
        "images, labels = dataiter.next()\n",
        "\n",
        "%matplotlib inline\n",
        "import matplotlib.pyplot as plt\n",
        "\n",
        "figure = plt.figure()\n",
        "num_of_images = 60\n",
        "for index in range(1, num_of_images + 1):\n",
        "    plt.subplot(6, 10, index)\n",
        "    plt.axis('off')\n",
        "    plt.imshow(images[index].numpy().squeeze(), cmap='gray_r')"
      ],
      "execution_count": null,
      "outputs": [
        {
          "output_type": "stream",
          "text": [
            "[Train]\n",
            " - Numpy Shape: (60000, 28, 28)\n",
            " - Tensor Shape: torch.Size([60000, 28, 28])\n",
            " - min: tensor(0, dtype=torch.uint8)\n",
            " - max: tensor(255, dtype=torch.uint8)\n"
          ],
          "name": "stdout"
        },
        {
          "output_type": "stream",
          "text": [
            "/usr/local/lib/python3.7/dist-packages/torchvision/datasets/mnist.py:64: UserWarning: train_data has been renamed data\n",
            "  warnings.warn(\"train_data has been renamed data\")\n"
          ],
          "name": "stderr"
        },
        {
          "output_type": "display_data",
          "data": {
            "image/png": "[encoded data removed]",
            "text/plain": [
              "<Figure size 432x288 with 60 Axes>"
            ]
          },
          "metadata": {
            "tags": [],
            "needs_background": "light"
          }
        }
      ]
    },
    {
      "cell_type": "code",
      "metadata": {
        "id": "EI9Qp45Ld6zi"
      },
      "source": [
        "from tqdm import tqdm\n",
        "import matplotlib.pyplot as plt\n",
        "\n",
        "def train(model, device, train_loader, optimizer, epoch):\n",
        "    model.train()\n",
        "    train_loss=0\n",
        "    pbar = tqdm(train_loader, leave=\"false\")\n",
        "    correct=0\n",
        "    processed=0\n",
        "    for batch_idx, (data, target) in enumerate(pbar):\n",
        "        data, target = data.to(device), target.to(device)\n",
        "        optimizer.zero_grad()\n",
        "        output = model(data)\n",
        "        loss = F.nll_loss(output, target)\n",
        "        train_loss += loss\n",
        "        loss.backward()\n",
        "        optimizer.step()\n",
        "        pred = output.argmax(dim=1, keepdim=True)\n",
        "        correct += pred.eq(target.view_as(pred)).sum().item()\n",
        "        processed += len(data)\n",
        "        pbar.set_description(desc= f'loss={loss.item()} batch_id={batch_idx} Accuracy={100.*correct/processed:0.2f}')\n",
        "    print('\\n\\nEPOCH : ',epoch)\n",
        "    print(f\"\\nTrain Loss{train_loss/len(train_loader.dataset)}\")\n",
        "\n",
        "\n",
        "def test(model, device, test_loader,epoch):\n",
        "    model.eval()\n",
        "    test_loss = 0\n",
        "    correct = 0\n",
        "    missed_pred=[]\n",
        "    with torch.no_grad():\n",
        "        for batch_idx, (data, target) in enumerate(test_loader):\n",
        "            data_copy=data\n",
        "            data, target = data.to(device), target.to(device)\n",
        "            output = model(data)\n",
        "            test_loss += F.nll_loss(output, target, reduction='sum').item()  # sum up batch loss\n",
        "            pred = output.argmax(dim=1, keepdim=True)  # get the index of the max log-probability\n",
        "            correct += pred.eq(target.view_as(pred)).sum().item()\n",
        "            if epoch==19:\n",
        "              for i in range(len(target)):\n",
        "                if pred[i]!=target[i]:\n",
        "                  \n",
        "                  plt.imshow(data_copy[i].squeeze(0))\n",
        "                  plt.show()\n",
        "    test_loss /= len(test_loader.dataset)\n",
        "    \n",
        "    print('\\nTest set: Average loss: {:.4f}, Accuracy: {}/{} ({:.0f}%)\\n'.format(\n",
        "        test_loss, correct, len(test_loader.dataset),\n",
        "        100. * correct / len(test_loader.dataset)))\n",
        "    "
      ],
      "execution_count": null,
      "outputs": []
    },
    {
      "cell_type": "code",
      "metadata": {
        "colab": {
          "base_uri": "https://localhost:8080/"
        },
        "id": "fk-vSB4ed9PS",
        "outputId": "76c0f23b-671a-4540-96b3-55a56822a44d"
      },
      "source": [
        "from torch.optim.lr_scheduler import StepLR\n",
        "\n",
        "model = Net().to(device)\n",
        "optimizer = optim.SGD(model.parameters(), lr=0.05, momentum=0.9)\n",
        "scheduler = StepLR(optimizer, step_size=10, gamma=0.1)\n",
        "\n",
        "for epoch in range(1, 16):\n",
        "    train(model, device, train_loader, optimizer, epoch)\n",
        "    test(model, device, test_loader,epoch)"
      ],
      "execution_count": null,
      "outputs": [
        {
          "output_type": "stream",
          "text": [
            "  0%|          | 0/469 [00:00<?, ?it/s]/usr/local/lib/python3.7/dist-packages/ipykernel_launcher.py:47: UserWarning: Implicit dimension choice for log_softmax has been deprecated. Change the call to include dim=X as an argument.\n",
            "loss=0.09655537456274033 batch_id=468 Accuracy=89.45: 100%|██████████| 469/469 [00:23<00:00, 20.25it/s]"
          ],
          "name": "stderr"
        },
        {
          "output_type": "stream",
          "text": [
            "\n",
            "\n",
            "EPOCH :  1\n",
            "\n",
            "Train Loss0.0026724787894636393\n"
          ],
          "name": "stdout"
        },
        {
          "output_type": "stream",
          "text": [
            "\n",
            "  0%|          | 0/469 [00:00<?, ?it/s]"
          ],
          "name": "stderr"
        },
        {
          "output_type": "stream",
          "text": [
            "\n",
            "Test set: Average loss: 0.0672, Accuracy: 9811/10000 (98%)\n",
            "\n"
          ],
          "name": "stdout"
        },
        {
          "output_type": "stream",
          "text": [
            "loss=0.051283594220876694 batch_id=468 Accuracy=97.58: 100%|██████████| 469/469 [00:23<00:00, 20.14it/s]"
          ],
          "name": "stderr"
        },
        {
          "output_type": "stream",
          "text": [
            "\n",
            "\n",
            "EPOCH :  2\n",
            "\n",
            "Train Loss0.0006251122686080635\n"
          ],
          "name": "stdout"
        },
        {
          "output_type": "stream",
          "text": [
            "\n",
            "  0%|          | 0/469 [00:00<?, ?it/s]"
          ],
          "name": "stderr"
        },
        {
          "output_type": "stream",
          "text": [
            "\n",
            "Test set: Average loss: 0.0378, Accuracy: 9882/10000 (99%)\n",
            "\n"
          ],
          "name": "stdout"
        },
        {
          "output_type": "stream",
          "text": [
            "loss=0.0602545328438282 batch_id=468 Accuracy=98.02: 100%|██████████| 469/469 [00:23<00:00, 20.21it/s]\n"
          ],
          "name": "stderr"
        },
        {
          "output_type": "stream",
          "text": [
            "\n",
            "\n",
            "EPOCH :  3\n",
            "\n",
            "Train Loss0.0005069823819212615\n"
          ],
          "name": "stdout"
        },
        {
          "output_type": "stream",
          "text": [
            "\r  0%|          | 0/469 [00:00<?, ?it/s]"
          ],
          "name": "stderr"
        },
        {
          "output_type": "stream",
          "text": [
            "\n",
            "Test set: Average loss: 0.0378, Accuracy: 9886/10000 (99%)\n",
            "\n"
          ],
          "name": "stdout"
        },
        {
          "output_type": "stream",
          "text": [
            "loss=0.03522777184844017 batch_id=468 Accuracy=98.32: 100%|██████████| 469/469 [00:23<00:00, 19.96it/s]"
          ],
          "name": "stderr"
        },
        {
          "output_type": "stream",
          "text": [
            "\n",
            "\n",
            "EPOCH :  4\n",
            "\n",
            "Train Loss0.0004369341768324375\n"
          ],
          "name": "stdout"
        },
        {
          "output_type": "stream",
          "text": [
            "\n",
            "  0%|          | 0/469 [00:00<?, ?it/s]"
          ],
          "name": "stderr"
        },
        {
          "output_type": "stream",
          "text": [
            "\n",
            "Test set: Average loss: 0.0418, Accuracy: 9870/10000 (99%)\n",
            "\n"
          ],
          "name": "stdout"
        },
        {
          "output_type": "stream",
          "text": [
            "loss=0.022978849709033966 batch_id=468 Accuracy=98.46: 100%|██████████| 469/469 [00:23<00:00, 19.80it/s]"
          ],
          "name": "stderr"
        },
        {
          "output_type": "stream",
          "text": [
            "\n",
            "\n",
            "EPOCH :  5\n",
            "\n",
            "Train Loss0.00038276505074463785\n"
          ],
          "name": "stdout"
        },
        {
          "output_type": "stream",
          "text": [
            "\n",
            "  0%|          | 0/469 [00:00<?, ?it/s]"
          ],
          "name": "stderr"
        },
        {
          "output_type": "stream",
          "text": [
            "\n",
            "Test set: Average loss: 0.0258, Accuracy: 9917/10000 (99%)\n",
            "\n"
          ],
          "name": "stdout"
        },
        {
          "output_type": "stream",
          "text": [
            "loss=0.10000456124544144 batch_id=468 Accuracy=98.42: 100%|██████████| 469/469 [00:23<00:00, 19.85it/s]"
          ],
          "name": "stderr"
        },
        {
          "output_type": "stream",
          "text": [
            "\n",
            "\n",
            "EPOCH :  6\n",
            "\n",
            "Train Loss0.00039344571996480227\n"
          ],
          "name": "stdout"
        },
        {
          "output_type": "stream",
          "text": [
            "\n",
            "  0%|          | 0/469 [00:00<?, ?it/s]"
          ],
          "name": "stderr"
        },
        {
          "output_type": "stream",
          "text": [
            "\n",
            "Test set: Average loss: 0.0272, Accuracy: 9917/10000 (99%)\n",
            "\n"
          ],
          "name": "stdout"
        },
        {
          "output_type": "stream",
          "text": [
            "loss=0.05341153219342232 batch_id=468 Accuracy=98.59: 100%|██████████| 469/469 [00:23<00:00, 19.75it/s]"
          ],
          "name": "stderr"
        },
        {
          "output_type": "stream",
          "text": [
            "\n",
            "\n",
            "EPOCH :  7\n",
            "\n",
            "Train Loss0.00034875256824307144\n"
          ],
          "name": "stdout"
        },
        {
          "output_type": "stream",
          "text": [
            "\n",
            "  0%|          | 0/469 [00:00<?, ?it/s]"
          ],
          "name": "stderr"
        },
        {
          "output_type": "stream",
          "text": [
            "\n",
            "Test set: Average loss: 0.0270, Accuracy: 9911/10000 (99%)\n",
            "\n"
          ],
          "name": "stdout"
        },
        {
          "output_type": "stream",
          "text": [
            "loss=0.01689385622739792 batch_id=468 Accuracy=98.55: 100%|██████████| 469/469 [00:23<00:00, 19.88it/s]"
          ],
          "name": "stderr"
        },
        {
          "output_type": "stream",
          "text": [
            "\n",
            "\n",
            "EPOCH :  8\n",
            "\n",
            "Train Loss0.00035410086275078356\n"
          ],
          "name": "stdout"
        },
        {
          "output_type": "stream",
          "text": [
            "\n",
            "  0%|          | 0/469 [00:00<?, ?it/s]"
          ],
          "name": "stderr"
        },
        {
          "output_type": "stream",
          "text": [
            "\n",
            "Test set: Average loss: 0.0288, Accuracy: 9911/10000 (99%)\n",
            "\n"
          ],
          "name": "stdout"
        },
        {
          "output_type": "stream",
          "text": [
            "loss=0.008584730327129364 batch_id=468 Accuracy=98.60: 100%|██████████| 469/469 [00:23<00:00, 19.85it/s]"
          ],
          "name": "stderr"
        },
        {
          "output_type": "stream",
          "text": [
            "\n",
            "\n",
            "EPOCH :  9\n",
            "\n",
            "Train Loss0.00034129832056351006\n"
          ],
          "name": "stdout"
        },
        {
          "output_type": "stream",
          "text": [
            "\n",
            "  0%|          | 0/469 [00:00<?, ?it/s]"
          ],
          "name": "stderr"
        },
        {
          "output_type": "stream",
          "text": [
            "\n",
            "Test set: Average loss: 0.0223, Accuracy: 9929/10000 (99%)\n",
            "\n"
          ],
          "name": "stdout"
        },
        {
          "output_type": "stream",
          "text": [
            "loss=0.015294992364943027 batch_id=468 Accuracy=98.64: 100%|██████████| 469/469 [00:23<00:00, 19.73it/s]"
          ],
          "name": "stderr"
        },
        {
          "output_type": "stream",
          "text": [
            "\n",
            "\n",
            "EPOCH :  10\n",
            "\n",
            "Train Loss0.00032814411679282784\n"
          ],
          "name": "stdout"
        },
        {
          "output_type": "stream",
          "text": [
            "\n",
            "  0%|          | 0/469 [00:00<?, ?it/s]"
          ],
          "name": "stderr"
        },
        {
          "output_type": "stream",
          "text": [
            "\n",
            "Test set: Average loss: 0.0231, Accuracy: 9925/10000 (99%)\n",
            "\n"
          ],
          "name": "stdout"
        },
        {
          "output_type": "stream",
          "text": [
            "loss=0.05347418412566185 batch_id=468 Accuracy=98.70: 100%|██████████| 469/469 [00:23<00:00, 19.74it/s]"
          ],
          "name": "stderr"
        },
        {
          "output_type": "stream",
          "text": [
            "\n",
            "\n",
            "EPOCH :  11\n",
            "\n",
            "Train Loss0.00031769226188771427\n"
          ],
          "name": "stdout"
        },
        {
          "output_type": "stream",
          "text": [
            "\n",
            "  0%|          | 0/469 [00:00<?, ?it/s]"
          ],
          "name": "stderr"
        },
        {
          "output_type": "stream",
          "text": [
            "\n",
            "Test set: Average loss: 0.0234, Accuracy: 9922/10000 (99%)\n",
            "\n"
          ],
          "name": "stdout"
        },
        {
          "output_type": "stream",
          "text": [
            "loss=0.08495184034109116 batch_id=468 Accuracy=98.80: 100%|██████████| 469/469 [00:23<00:00, 19.62it/s]"
          ],
          "name": "stderr"
        },
        {
          "output_type": "stream",
          "text": [
            "\n",
            "\n",
            "EPOCH :  12\n",
            "\n",
            "Train Loss0.0002923058345913887\n"
          ],
          "name": "stdout"
        },
        {
          "output_type": "stream",
          "text": [
            "\n",
            "  0%|          | 0/469 [00:00<?, ?it/s]"
          ],
          "name": "stderr"
        },
        {
          "output_type": "stream",
          "text": [
            "\n",
            "Test set: Average loss: 0.0208, Accuracy: 9937/10000 (99%)\n",
            "\n"
          ],
          "name": "stdout"
        },
        {
          "output_type": "stream",
          "text": [
            "loss=0.043267715722322464 batch_id=468 Accuracy=98.84: 100%|██████████| 469/469 [00:23<00:00, 19.66it/s]"
          ],
          "name": "stderr"
        },
        {
          "output_type": "stream",
          "text": [
            "\n",
            "\n",
            "EPOCH :  13\n",
            "\n",
            "Train Loss0.00028784401365555823\n"
          ],
          "name": "stdout"
        },
        {
          "output_type": "stream",
          "text": [
            "\n",
            "  0%|          | 0/469 [00:00<?, ?it/s]"
          ],
          "name": "stderr"
        },
        {
          "output_type": "stream",
          "text": [
            "\n",
            "Test set: Average loss: 0.0195, Accuracy: 9941/10000 (99%)\n",
            "\n"
          ],
          "name": "stdout"
        },
        {
          "output_type": "stream",
          "text": [
            "loss=0.01475639920681715 batch_id=468 Accuracy=98.86: 100%|██████████| 469/469 [00:24<00:00, 19.45it/s]"
          ],
          "name": "stderr"
        },
        {
          "output_type": "stream",
          "text": [
            "\n",
            "\n",
            "EPOCH :  14\n",
            "\n",
            "Train Loss0.0002850073797162622\n"
          ],
          "name": "stdout"
        },
        {
          "output_type": "stream",
          "text": [
            "\n",
            "  0%|          | 0/469 [00:00<?, ?it/s]"
          ],
          "name": "stderr"
        },
        {
          "output_type": "stream",
          "text": [
            "\n",
            "Test set: Average loss: 0.0277, Accuracy: 9909/10000 (99%)\n",
            "\n"
          ],
          "name": "stdout"
        },
        {
          "output_type": "stream",
          "text": [
            "loss=0.04833677411079407 batch_id=468 Accuracy=98.88: 100%|██████████| 469/469 [00:23<00:00, 19.66it/s]"
          ],
          "name": "stderr"
        },
        {
          "output_type": "stream",
          "text": [
            "\n",
            "\n",
            "EPOCH :  15\n",
            "\n",
            "Train Loss0.00028367480263113976\n"
          ],
          "name": "stdout"
        },
        {
          "output_type": "stream",
          "text": [
            "\n"
          ],
          "name": "stderr"
        },
        {
          "output_type": "stream",
          "text": [
            "\n",
            "Test set: Average loss: 0.0214, Accuracy: 9930/10000 (99%)\n",
            "\n"
          ],
          "name": "stdout"
        }
      ]
    }
  ]
}